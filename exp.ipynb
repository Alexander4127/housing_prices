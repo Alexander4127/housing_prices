{
 "cells": [
  {
   "cell_type": "markdown",
   "metadata": {},
   "source": [
    "## Load data"
   ]
  },
  {
   "cell_type": "code",
   "execution_count": 1,
   "metadata": {},
   "outputs": [
    {
     "name": "stdout",
     "output_type": "stream",
     "text": [
      "Cat features distributions\n",
      "|    | Name             | Vals                                         | Counts        |\n",
      "|---:|:-----------------|:---------------------------------------------|:--------------|\n",
      "|  0 | mainroad         | ['no' 'yes']                                 | [ 76 456]     |\n",
      "|  1 | guestroom        | ['no' 'yes']                                 | [437  95]     |\n",
      "|  2 | basement         | ['no' 'yes']                                 | [346 186]     |\n",
      "|  3 | hotwaterheating  | ['no' 'yes']                                 | [507  25]     |\n",
      "|  4 | airconditioning  | ['no' 'yes']                                 | [364 168]     |\n",
      "|  5 | prefarea         | ['no' 'yes']                                 | [406 126]     |\n",
      "|  6 | furnishingstatus | ['furnished' 'semi-furnished' 'unfurnished'] | [137 223 172] |\n",
      "\n",
      "Cat features converted to numerical (avoid overfitting on rare samples)\n",
      "|    | Name      | Vals          | Counts                    |\n",
      "|---:|:----------|:--------------|:--------------------------|\n",
      "|  0 | bathrooms | [1 2 3 4]     | [393 128  10   1]         |\n",
      "|  1 | bedrooms  | [1 2 3 4 5 6] | [  2 131 292  95  10   2] |\n",
      "|  2 | stories   | [1 2 3 4]     | [223 231  38  40]         |\n",
      "|  3 | parking   | [0 1 2 3]     | [292 121 107  12]         |\n",
      "\n",
      "DataFrame:\n",
      "|    |    price |   area |   bedrooms |   bathrooms |   stories | mainroad   | guestroom   | basement   | hotwaterheating   | airconditioning   |   parking | prefarea   | furnishingstatus   |\n",
      "|---:|---------:|-------:|-----------:|------------:|----------:|:-----------|:------------|:-----------|:------------------|:------------------|----------:|:-----------|:-------------------|\n",
      "|  0 | 13300000 |   7420 |          4 |           2 |         3 | yes        | no          | no         | no                | yes               |         2 | yes        | furnished          |\n",
      "|  1 | 12250000 |   8960 |          4 |           4 |         4 | yes        | no          | no         | no                | yes               |         3 | no         | furnished          |\n",
      "|  2 | 12250000 |   9960 |          3 |           2 |         2 | yes        | no          | yes        | no                | no                |         2 | yes        | semi-furnished     |\n"
     ]
    }
   ],
   "source": [
    "from load_data import load_main_data\n",
    "\n",
    "# main dataset\n",
    "df, num_features, cat_features = load_main_data()"
   ]
  },
  {
   "cell_type": "markdown",
   "metadata": {},
   "source": [
    "#### Train-test split"
   ]
  },
  {
   "cell_type": "code",
   "execution_count": 2,
   "metadata": {},
   "outputs": [
    {
     "ename": "TypeError",
     "evalue": "plot_split_results() got multiple values for argument 'test_size'",
     "output_type": "error",
     "traceback": [
      "\u001b[0;31m---------------------------------------------------------------------------\u001b[0m",
      "\u001b[0;31mTypeError\u001b[0m                                 Traceback (most recent call last)",
      "Cell \u001b[0;32mIn[2], line 3\u001b[0m\n\u001b[1;32m      1\u001b[0m \u001b[38;5;28;01mfrom\u001b[39;00m \u001b[38;5;21;01mutils\u001b[39;00m \u001b[38;5;28;01mimport\u001b[39;00m plot_split_results\n\u001b[0;32m----> 3\u001b[0m df, df_test \u001b[38;5;241m=\u001b[39m plot_split_results(df, test_size\u001b[38;5;241m=\u001b[39m\u001b[38;5;241m0.2\u001b[39m, num_quantiles\u001b[38;5;241m=\u001b[39m\u001b[38;5;241m10\u001b[39m, seed\u001b[38;5;241m=\u001b[39m\u001b[38;5;241m42\u001b[39m)\n",
      "\u001b[0;31mTypeError\u001b[0m: plot_split_results() got multiple values for argument 'test_size'"
     ]
    }
   ],
   "source": [
    "from utils import plot_split_results\n",
    "\n",
    "df, df_test = plot_split_results(df, test_size=0.2, num_quantiles=10, seed=42)"
   ]
  },
  {
   "cell_type": "markdown",
   "metadata": {},
   "source": [
    "### Additional dataset"
   ]
  },
  {
   "cell_type": "code",
   "execution_count": 2,
   "metadata": {},
   "outputs": [
    {
     "name": "stdout",
     "output_type": "stream",
     "text": [
      "Find duplicates. Dropping them...\n",
      "Numerical features before removing extra values\n",
      "|    | Name      | Vals                                     | Counts                                                             |\n",
      "|---:|:----------|:-----------------------------------------|:-------------------------------------------------------------------|\n",
      "|  0 | bedrooms  | [ 0  1  2  3  4  5  6  7  8  9 10 11 33] | [  13  194 2737 9730 6849 1586  265   38   13    6    3    1    1] |\n",
      "|  1 | bathrooms | [0 1 2 3 4 5 6 7 8]                      | [   85  8254 10481  2217   335    48    12     2     2]            |\n",
      "|  2 | stories   | [1 2 3]                                  | [12447  8370   619]                                                |\n",
      "\n",
      "Final numerical features\n",
      "|    | Name      | Vals          | Counts                          |\n",
      "|---:|:----------|:--------------|:--------------------------------|\n",
      "|  0 | bedrooms  | [1 2 3 4 5 6] | [ 164 2709 9714 6828 1561  252] |\n",
      "|  1 | bathrooms | [1 2 3 4]     | [ 8248 10465  2197   318]       |\n",
      "|  2 | stories   | [1 2 3]       | [12338  8276   614]             |\n",
      "\n",
      "Additional DataFrame\n",
      "|    |   bedrooms |   bathrooms |   area |   stories |   price |\n",
      "|---:|-----------:|------------:|-------:|----------:|--------:|\n",
      "|  0 |          2 |           1 |   5650 |         1 |  231300 |\n",
      "|  1 |          3 |           2 |   7242 |         2 |  538000 |\n",
      "|  2 |          2 |           1 |  10000 |         1 |  180000 |\n"
     ]
    }
   ],
   "source": [
    "from load_data import load_add_data\n",
    "\n",
    "# additional dataset\n",
    "df_add, num_features_add, cat_features_add = load_add_data(\n",
    "    df, num_features, cat_features\n",
    ")"
   ]
  },
  {
   "cell_type": "markdown",
   "metadata": {},
   "source": [
    "#### Filling missing features with simple models"
   ]
  },
  {
   "cell_type": "code",
   "execution_count": 128,
   "metadata": {},
   "outputs": [],
   "source": [
    "from utils import preprocess_data\n",
    "from generate_data import fill_features\n",
    "\n",
    "df_pre = preprocess_data(df, [\"price\"] + num_features_add, cat_features_add)\n",
    "df_add_pre = preprocess_data(df_add, [\"price\"] + num_features_add, cat_features_add)\n",
    "\n",
    "df_add = fill_features(\n",
    "    df, df_pre, df_add, df_add_pre,\n",
    "    list(set(cat_features) - set(cat_features_add))\n",
    ")\n",
    "df_add = fill_features(\n",
    "    df, df_pre, df_add, df_add_pre,\n",
    "    list(set(num_features) - set(num_features_add)), is_cat=False\n",
    ")\n",
    "\n",
    "print()\n",
    "print(df_add.head(3).to_markdown())"
   ]
  },
  {
   "cell_type": "markdown",
   "metadata": {},
   "source": [
    "### Synthetic data"
   ]
  },
  {
   "cell_type": "code",
   "execution_count": 1,
   "metadata": {},
   "outputs": [
    {
     "ename": "NameError",
     "evalue": "name 'df' is not defined",
     "output_type": "error",
     "traceback": [
      "\u001b[0;31m---------------------------------------------------------------------------\u001b[0m",
      "\u001b[0;31mNameError\u001b[0m                                 Traceback (most recent call last)",
      "Cell \u001b[0;32mIn[1], line 14\u001b[0m\n\u001b[1;32m      9\u001b[0m         df_gen[ft] \u001b[38;5;241m=\u001b[39m [vals[idx] \u001b[38;5;28;01mfor\u001b[39;00m idx \u001b[38;5;129;01min\u001b[39;00m np\u001b[38;5;241m.\u001b[39mrandom\u001b[38;5;241m.\u001b[39mbinomial(\n\u001b[1;32m     10\u001b[0m             n\u001b[38;5;241m=\u001b[39m\u001b[38;5;28mlen\u001b[39m(vals), p\u001b[38;5;241m=\u001b[39mnp\u001b[38;5;241m.\u001b[39marray(counts) \u001b[38;5;241m/\u001b[39m \u001b[38;5;28msum\u001b[39m(counts), size\u001b[38;5;241m=\u001b[39mnum_samples,\n\u001b[1;32m     11\u001b[0m         )]\n\u001b[1;32m     12\u001b[0m     \u001b[38;5;28;01mreturn\u001b[39;00m df_gen\n\u001b[0;32m---> 14\u001b[0m df_synt \u001b[38;5;241m=\u001b[39m generate_synt(df, num_features, cat_features, num_samples\u001b[38;5;241m=\u001b[39m\u001b[38;5;241m5000\u001b[39m)\n",
      "\u001b[0;31mNameError\u001b[0m: name 'df' is not defined"
     ]
    }
   ],
   "source": [
    "from generate_data import generate_synt\n",
    "\n",
    "df_synt = generate_synt(df, num_features, cat_features, num_samples=5000)"
   ]
  },
  {
   "cell_type": "markdown",
   "metadata": {},
   "source": [
    "## Metrics"
   ]
  },
  {
   "cell_type": "code",
   "execution_count": null,
   "metadata": {},
   "outputs": [],
   "source": []
  }
 ],
 "metadata": {
  "kernelspec": {
   "display_name": "base",
   "language": "python",
   "name": "python3"
  },
  "language_info": {
   "codemirror_mode": {
    "name": "ipython",
    "version": 3
   },
   "file_extension": ".py",
   "mimetype": "text/x-python",
   "name": "python",
   "nbconvert_exporter": "python",
   "pygments_lexer": "ipython3",
   "version": "3.11.5"
  }
 },
 "nbformat": 4,
 "nbformat_minor": 2
}
